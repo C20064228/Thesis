{
 "cells": [
  {
   "cell_type": "code",
   "execution_count": null,
   "id": "702c7b8f",
   "metadata": {},
   "outputs": [],
   "source": [
    "import torch\n",
    "from diffusers import StableDiffusionImg2ImgPipeline\n",
    "\n",
    "def Diffusion(args):\n",
    "    if not hasattr(Diffusion, 'pipe'):\n",
    "        pipe = StableDiffusionImg2ImgPipeline.from_pretrained(\n",
    "            'runwayml/stable-diffusion-v1-5',\n",
    "            torch_dtype=torch.float32,\n",
    "            cache_dir='/opt/dlami/nvme/huggingface'\n",
    "            )\n",
    "        Diffusion.pipe = pipe\n",
    "    pipe = Diffusion.pipe\n",
    "    "
   ]
  }
 ],
 "metadata": {
  "kernelspec": {
   "display_name": "pytorch (3.12.6)",
   "language": "python",
   "name": "python3"
  },
  "language_info": {
   "name": "python",
   "version": "3.12.6"
  }
 },
 "nbformat": 4,
 "nbformat_minor": 5
}
